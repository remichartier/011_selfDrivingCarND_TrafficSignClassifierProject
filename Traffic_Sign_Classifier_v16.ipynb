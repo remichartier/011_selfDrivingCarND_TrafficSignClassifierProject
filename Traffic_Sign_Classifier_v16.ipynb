{
 "cells": [
  {
   "cell_type": "markdown",
   "metadata": {},
   "source": [
    "# Self-Driving Car Engineer Nanodegree\n",
    "\n",
    "## Deep Learning\n",
    "\n",
    "## Project: Build a Traffic Sign Recognition Classifier\n",
    "\n",
    "In this notebook, a template is provided for you to implement your functionality in stages, which is required to successfully complete this project. If additional code is required that cannot be included in the notebook, be sure that the Python code is successfully imported and included in your submission if necessary. \n",
    "\n",
    "> **Note**: Once you have completed all of the code implementations, you need to finalize your work by exporting the iPython Notebook as an HTML document. Before exporting the notebook to html, all of the code cells need to have been run so that reviewers can see the final implementation and output. You can then export the notebook by using the menu above and navigating to  \\n\",\n",
    "    \"**File -> Download as -> HTML (.html)**. Include the finished document along with this notebook as your submission. \n",
    "\n",
    "In addition to implementing code, there is a writeup to complete. The writeup should be completed in a separate file, which can be either a markdown file or a pdf document. There is a [write up template](https://github.com/udacity/CarND-Traffic-Sign-Classifier-Project/blob/master/writeup_template.md) that can be used to guide the writing process. Completing the code template and writeup template will cover all of the [rubric points](https://review.udacity.com/#!/rubrics/481/view) for this project.\n",
    "\n",
    "The [rubric](https://review.udacity.com/#!/rubrics/481/view) contains \"Stand Out Suggestions\" for enhancing the project beyond the minimum requirements. The stand out suggestions are optional. If you decide to pursue the \"stand out suggestions\", you can include the code in this Ipython notebook and also discuss the results in the writeup file.\n",
    "\n",
    "\n",
    ">**Note:** Code and Markdown cells can be executed using the **Shift + Enter** keyboard shortcut. In addition, Markdown cells can be edited by typically double-clicking the cell to enter edit mode."
   ]
  },
  {
   "cell_type": "markdown",
   "metadata": {},
   "source": [
    "---\n",
    "## Change Log\n",
    "- v01 : First working version. EPOCH 10 ... LeNet copy/paste. Normalization (pixel-128/128).\n",
    "  - Validation Accuracy = 0.886\n",
    "- v02 : try regularization / dropout fc3 and fc2 dropout 0.5 --> EPOCH 10 ...Validation Accuracy = 0.930\n",
    "- v03 : try dropout fc1 --> EPOCH 10 ... Validation Accuracy = 0.926\n",
    "- v04 : keep_prob from 0.5 to 0.6. --> EPOCH 10 ...Validation Accuracy = 0.939\n",
    "  - keep_prob = 0.7 --> EPOCH 10 ...Validation Accuracy = 0.942\n",
    "- v05 : keep_prob = 0.7 -> EPOCH 10 ...Validation Accuracy = 0.944\n",
    "- v06 : Gray Scale. keep_prob 0.7 --> EPOCH 10 ...Validation Accuracy = 0.934\n",
    "- v07 : 3 channels keep_prob = 0.75 --> EPOCH 10 ...Validation Accuracy = 0.942, reached test_accuracy 0.0932\n",
    "- v08 : Display 4 web german traffic sign images\n",
    "- v09 : Accuracy on 5 web images\n",
    "- v10 : Draft 5 web images top predictions.\n",
    "- v11 : test EPOCHS = 20\n",
    "- v12 : Cleanup comments after top predictions results\n",
    "- v13 : Improve label and prediction display with test sign names for write-up\n",
    "- v14 : Histogram\n",
    "- v15 : Plot data to check normalization\n",
    "\n",
    "- Other possibilities : Try padding SAME instead of VALID. \n",
    "---\n",
    "## Step 0: Load The Data"
   ]
  },
  {
   "cell_type": "code",
   "execution_count": 40,
   "metadata": {},
   "outputs": [],
   "source": [
    "# Load pickled data\n",
    "import pickle\n",
    "\n",
    "# TODO: Fill this in based on where you saved the training and testing data\n",
    "\n",
    "training_file = '../data/train.p'\n",
    "validation_file= '../data/valid.p'\n",
    "testing_file =  '../data/test.p' \n",
    "\n",
    "with open(training_file, mode='rb') as f:\n",
    "    train = pickle.load(f)\n",
    "with open(validation_file, mode='rb') as f:\n",
    "    valid = pickle.load(f)\n",
    "with open(testing_file, mode='rb') as f:\n",
    "    test = pickle.load(f)\n",
    "    \n",
    "X_train, y_train = train['features'], train['labels']\n",
    "X_valid, y_valid = valid['features'], valid['labels']\n",
    "X_test, y_test = test['features'], test['labels']\n",
    "\n",
    "# keep a copy of X_train to compare for normalization : \n",
    "X_train_original = X_train"
   ]
  },
  {
   "cell_type": "markdown",
   "metadata": {},
   "source": [
    "---\n",
    "\n",
    "## Step 1: Dataset Summary & Exploration\n",
    "\n",
    "The pickled data is a dictionary with 4 key/value pairs:\n",
    "\n",
    "- `'features'` is a 4D array containing raw pixel data of the traffic sign images, (num examples, width, height, channels).\n",
    "- `'labels'` is a 1D array containing the label/class id of the traffic sign. The file `signnames.csv` contains id -> name mappings for each id.\n",
    "- `'sizes'` is a list containing tuples, (width, height) representing the original width and height the image.\n",
    "- `'coords'` is a list containing tuples, (x1, y1, x2, y2) representing coordinates of a bounding box around the sign in the image. **THESE COORDINATES ASSUME THE ORIGINAL IMAGE. THE PICKLED DATA CONTAINS RESIZED VERSIONS (32 by 32) OF THESE IMAGES**\n",
    "\n",
    "Complete the basic data summary below. Use python, numpy and/or pandas methods to calculate the data summary rather than hard coding the results. For example, the [pandas shape method](http://pandas.pydata.org/pandas-docs/stable/generated/pandas.DataFrame.shape.html) might be useful for calculating some of the summary results. "
   ]
  },
  {
   "cell_type": "markdown",
   "metadata": {},
   "source": [
    "### Configuration of the LeNet Model"
   ]
  },
  {
   "cell_type": "code",
   "execution_count": 41,
   "metadata": {},
   "outputs": [],
   "source": [
    "# handle conversion to gray scale option\n",
    "is_converted_gray = False\n",
    "input_channels = 1 if is_converted_gray else 3\n"
   ]
  },
  {
   "cell_type": "markdown",
   "metadata": {},
   "source": [
    "### Provide a Basic Summary of the Data Set Using Python, Numpy and/or Pandas"
   ]
  },
  {
   "cell_type": "code",
   "execution_count": 42,
   "metadata": {},
   "outputs": [
    {
     "name": "stdout",
     "output_type": "stream",
     "text": [
      "Number of training examples X_train = 34799 y_train = 34799\n",
      "Number of validation examples X_valid = 4410 y_valid = 4410\n",
      "Number of testing examples = X_test = 12630 y_test = 12630\n",
      "Image data shape = (32, 32, 3)\n",
      "Number of classes = 43\n",
      "\n",
      "Reformat for writeup questions :\n",
      "###############################\n",
      "- The size of training set is : 34799\n",
      "- The size of the validation set is : 4410\n",
      "- The size of test set is : 12630\n",
      "- The shape of a traffic sign image is : (32, 32, 3)\n",
      "- The number of unique classes/labels in the data set is : 43\n",
      "\n",
      "Few statistics about dataset X_train before pre-processing :\n",
      "###############################\n",
      "- Values average/mean : 82.68\n",
      "- Values average standard deviation : 66.82\n",
      "- Mininum value : 0.00\n",
      "- Maximum value : 255.00\n"
     ]
    }
   ],
   "source": [
    "import numpy as np\n",
    "\n",
    "### Replace each question mark with the appropriate value. \n",
    "### Use python, pandas or numpy methods rather than hard coding the results\n",
    "\n",
    "\n",
    "def printMeanAndVarianceDataSet(dataset,name):\n",
    "    print()\n",
    "    print(f'Few statistics about dataset {name} :\\n###############################')\n",
    "    print(f'- Values average/mean : {np.mean(dataset):.2f}')\n",
    "    print(f'- Values average standard deviation : {np.mean(np.std(dataset,axis=0)):.2f}')\n",
    "    print(f'- Mininum value : {np.amin(dataset):.2f}')\n",
    "    print(f'- Maximum value : {np.amax(dataset):.2f}')\n",
    "\n",
    "# TODO: Number of training examples\n",
    "nx_train = len(X_train)\n",
    "ny_train = len(y_train)\n",
    "\n",
    "# TODO: Number of validation examples\n",
    "nx_validation = len(X_valid)\n",
    "ny_validation = len(y_valid)\n",
    "\n",
    "# TODO: Number of testing examples.\n",
    "nx_test = len(X_test)\n",
    "ny_test = len(y_test)\n",
    "\n",
    "# TODO: What's the shape of an traffic sign image?\n",
    "image_shape = X_train[0].shape\n",
    "\n",
    "# TODO: How many unique classes/labels there are in the dataset.\n",
    "n_classes = len(set(np.concatenate((y_train,y_valid,y_test))))\n",
    "\n",
    "print(f'Number of training examples X_train = {nx_train} y_train = {ny_train}')\n",
    "print(f'Number of validation examples X_valid = {nx_validation} y_valid = {ny_validation}')\n",
    "print(f'Number of testing examples = X_test = {nx_test} y_test = {ny_test}')\n",
    "print(\"Image data shape =\", image_shape)\n",
    "print(\"Number of classes =\", n_classes)\n",
    "#print(train['labels'])\n",
    "print()\n",
    "# Reformat for writeup questions :\n",
    "print('Reformat for writeup questions :\\n###############################')\n",
    "print(f'- The size of training set is : {nx_train}')\n",
    "print(f'- The size of the validation set is : {nx_validation}')\n",
    "print(f'- The size of test set is : {nx_test}')\n",
    "print(f'- The shape of a traffic sign image is : {image_shape}')\n",
    "print(f'- The number of unique classes/labels in the data set is : {n_classes}')\n",
    "\n",
    "printMeanAndVarianceDataSet(X_train,'X_train before pre-processing')"
   ]
  },
  {
   "cell_type": "markdown",
   "metadata": {},
   "source": [
    "### Include an exploratory visualization of the dataset"
   ]
  },
  {
   "cell_type": "markdown",
   "metadata": {},
   "source": [
    "Visualize the German Traffic Signs Dataset using the pickled file(s). This is open ended, suggestions include: plotting traffic sign images, plotting the count of each sign, etc. \n",
    "\n",
    "The [Matplotlib](http://matplotlib.org/) [examples](http://matplotlib.org/examples/index.html) and [gallery](http://matplotlib.org/gallery.html) pages are a great resource for doing visualizations in Python.\n",
    "\n",
    "**NOTE:** It's recommended you start with something simple first. If you wish to do more, come back to it after you've completed the rest of the sections. It can be interesting to look at the distribution of classes in the training, validation and test set. Is the distribution the same? Are there more examples of some classes than others?"
   ]
  },
  {
   "cell_type": "markdown",
   "metadata": {},
   "source": [
    "#### Extract table to match label indexes with German sign names : "
   ]
  },
  {
   "cell_type": "code",
   "execution_count": 44,
   "metadata": {},
   "outputs": [
    {
     "name": "stdout",
     "output_type": "stream",
     "text": [
      "Exemple of label for image[0] : \"Speed limit (20km/h)\"\n"
     ]
    }
   ],
   "source": [
    "import csv\n",
    "\n",
    "def read_signIndexNames() :\n",
    "    # Read file 'signnames.csv', store in dictionary to map label indexes with sign titles\n",
    "    # Format : ClassId,SignName\n",
    "    sign_name_file = './signnames.csv'\n",
    "    with open(sign_name_file, newline='') as csvfile:\n",
    "        reader = csv.DictReader(csvfile)\n",
    "        table = []\n",
    "        for row in reader:\n",
    "            #print(row['ClassId'], row['SignName'])\n",
    "            table.append(row['SignName'])\n",
    "    return table\n",
    "        \n",
    "sign_table = read_signIndexNames()\n",
    "print(f'Exemple of label for image[0] : \\\"{sign_table[0]}\\\"')"
   ]
  },
  {
   "cell_type": "markdown",
   "metadata": {},
   "source": [
    "#### Display Random image and infos "
   ]
  },
  {
   "cell_type": "code",
   "execution_count": 45,
   "metadata": {},
   "outputs": [
    {
     "name": "stdout",
     "output_type": "stream",
     "text": [
      "Random image index : 13, corresponding to German sign name : \"Yield\"\n",
      "Random image shape/size : (32, 32, 3)\n",
      "Random image shape/size : (32, 32, 3)\n"
     ]
    },
    {
     "data": {
      "image/png": "[encoded data removed]",
      "text/plain": [
       "<matplotlib.figure.Figure at 0x7fa3b5fffba8>"
      ]
     },
     "metadata": {
      "needs_background": "light"
     },
     "output_type": "display_data"
    }
   ],
   "source": [
    "import random\n",
    "\n",
    "### Data exploration visualization code goes here.\n",
    "### Feel free to use as many code cells as needed.\n",
    "import matplotlib.pyplot as plt\n",
    "# Visualizations will be shown in the notebook.\n",
    "%matplotlib inline\n",
    "\n",
    "index_random = random.randint(0, len(X_train))\n",
    "image = X_train[index_random].squeeze()\n",
    "\n",
    "plt.figure(figsize=(3,3))\n",
    "#plt.imshow(image, cmap=\"gray\")\n",
    "#plt.imshow(image[:,:,0])\n",
    "plt.imshow(image)\n",
    "print(\n",
    "    f'Random image index : {y_train[index_random]}, corresponding to German sign name : \\\"{sign_table[y_train[index_random]]}\\\"')\n",
    "print(f'Random image shape/size : {image.shape}')\n",
    "print(f'Random image shape/size : {image.shape}')\n"
   ]
  },
  {
   "cell_type": "markdown",
   "metadata": {},
   "source": [
    "#### Histogram of image labels y_train"
   ]
  },
  {
   "cell_type": "code",
   "execution_count": 46,
   "metadata": {
    "scrolled": false
   },
   "outputs": [
    {
     "data": {
      "image/png": "[encoded data removed]",
      "text/plain": [
       "<matplotlib.figure.Figure at 0x7fa3b63f7470>"
      ]
     },
     "metadata": {
      "needs_background": "light"
     },
     "output_type": "display_data"
    }
   ],
   "source": [
    "import matplotlib.pyplot as plt\n",
    "\n",
    "# histogram on y_train\n",
    "# Nb labels : n_classes\n",
    "\n",
    "fig, ax = plt.subplots(figsize=(15,7))\n",
    "# the histogram of the data\n",
    "n, bins, patches = ax.hist(y_train,bins=n_classes,rwidth=0.8,align='left',\n",
    "                    range=(0,n_classes))\n",
    "\n",
    "ax.set_xlabel('Sign indexex')\n",
    "ax.set_ylabel('nb of sign labels')\n",
    "ax.set_title('Label Histogram')\n",
    "ax.axes.grid(b=True,which='major',axis='y')\n",
    "#ax.set_xticks(list(range(0,n_classes)), sign_table)\n",
    "plt.xticks(list(range(0,n_classes)), sign_table,rotation=90)\n",
    "# Tweak spacing to prevent clipping of ylabel\n",
    "#fig.tight_layout()\n",
    "plt.show()"
   ]
  },
  {
   "cell_type": "markdown",
   "metadata": {},
   "source": [
    "----\n",
    "\n",
    "## Step 2: Design and Test a Model Architecture\n",
    "\n",
    "Design and implement a deep learning model that learns to recognize traffic signs. Train and test your model on the [German Traffic Sign Dataset](http://benchmark.ini.rub.de/?section=gtsrb&subsection=dataset).\n",
    "\n",
    "The LeNet-5 implementation shown in the [classroom](https://classroom.udacity.com/nanodegrees/nd013/parts/fbf77062-5703-404e-b60c-95b78b2f3f9e/modules/6df7ae49-c61c-4bb2-a23e-6527e69209ec/lessons/601ae704-1035-4287-8b11-e2c2716217ad/concepts/d4aca031-508f-4e0b-b493-e7b706120f81) at the end of the CNN lesson is a solid starting point. You'll have to change the number of classes and possibly the preprocessing, but aside from that it's plug and play! \n",
    "\n",
    "With the LeNet-5 solution from the lecture, you should expect a validation set accuracy of about 0.89. To meet specifications, the validation set accuracy will need to be at least 0.93. It is possible to get an even higher accuracy, but 0.93 is the minimum for a successful project submission. \n",
    "\n",
    "There are various aspects to consider when thinking about this problem:\n",
    "\n",
    "- Neural network architecture (is the network over or underfitting?)\n",
    "- Play around preprocessing techniques (normalization, rgb to grayscale, etc)\n",
    "- Number of examples per label (some have more than others).\n",
    "- Generate fake data.\n",
    "\n",
    "Here is an example of a [published baseline model on this problem](http://yann.lecun.com/exdb/publis/pdf/sermanet-ijcnn-11.pdf). It's not required to be familiar with the approach used in the paper but, it's good practice to try to read papers like these."
   ]
  },
  {
   "cell_type": "markdown",
   "metadata": {},
   "source": [
    "### Pre-process the Data Set (normalization, grayscale, etc.)"
   ]
  },
  {
   "cell_type": "markdown",
   "metadata": {},
   "source": [
    "Minimally, the image data should be normalized so that the data has mean zero and equal variance. For image data, `(pixel - 128)/ 128` is a quick way to approximately normalize the data and can be used in this project. \n",
    "\n",
    "Other pre-processing steps are optional. You can try different techniques to see if it improves performance. \n",
    "\n",
    "Use the code cell (or multiple code cells, if necessary) to implement the first step of your project."
   ]
  },
  {
   "cell_type": "markdown",
   "metadata": {},
   "source": [
    "#### Try Gray Scale conversion"
   ]
  },
  {
   "cell_type": "code",
   "execution_count": 47,
   "metadata": {},
   "outputs": [],
   "source": [
    "import cv2\n",
    "import matplotlib.pyplot as plt\n",
    "import matplotlib.image as mpimg\n",
    "\n",
    "\n",
    "def displayImagesSideBySide(img_list) :\n",
    "    nb_img = len(img_list)\n",
    "    f, ax = plt.subplots(nrows=1, ncols=nb_img, figsize=(9, 9))\n",
    "    f.tight_layout()\n",
    "    for i in range(nb_img) :\n",
    "        # choose cmap option if 3 color channels or if 1 (grayscale)\n",
    "        img_cmap = 'gray' if (img_list[i].shape[2] == 1) else None \n",
    "        ax[i].imshow(img_list[i].squeeze(),img_cmap)\n",
    "    plt.subplots_adjust(left=0., right=1, top=0.9, bottom=0.)\n",
    "    \n",
    "def convertToGrayScale(images):\n",
    "    images_gray = np.zeros(images.shape[:-1])\n",
    "    for i in range(images.shape[0]): \n",
    "        images_gray[i] = cv2.cvtColor(images[i], cv2.COLOR_RGB2GRAY) \n",
    "    # add channel dimension at the end\n",
    "    images_gray = np.expand_dims(images_gray, axis=3)\n",
    "    return images_gray\n",
    "\n",
    "if is_converted_gray :\n",
    "    # For visualization, same random image first\n",
    "    original_img = X_train[index_random]\n",
    "    # grayscale conversion of all train/valid/test data sets\n",
    "    X_train = convertToGrayScale(X_train)\n",
    "    X_valid = convertToGrayScale(X_valid)\n",
    "    X_test = convertToGrayScale(X_test)\n",
    "    #print(X_train.shape)\n",
    "\n",
    "    # Visualization\n",
    "    #plt.figure(figsize=(2,2))\n",
    "    #plt.imshow(X_train[0].squeeze(),cmap='gray')\n",
    "    displayImagesSideBySide(img_list=[original_img,X_train[index_random]])\n"
   ]
  },
  {
   "cell_type": "markdown",
   "metadata": {},
   "source": [
    "In case grayscale conversion is not activated via `is_converted_gray`, here is a display of grayscale conversion I usually get : \n",
    "    <img src=\"files/writeup_images/0002_gray_conversion.png\">"
   ]
  },
  {
   "cell_type": "markdown",
   "metadata": {},
   "source": [
    "#### Normalization for data 0 mean and equal variant"
   ]
  },
  {
   "cell_type": "code",
   "execution_count": 48,
   "metadata": {},
   "outputs": [
    {
     "name": "stdout",
     "output_type": "stream",
     "text": [
      "len(X_train) = 34799 len(y_train) = 34799 len(X_valid) = 4410 len(y_valid) = 4410 len(X_test) = 12630 len(y_test) = 12630\n",
      "info debug : \n",
      "np.amax(X_train) = 0.9921875\n",
      "np.amin(X_train) = -1.0\n",
      "len(X_train) = 34799 len(y_train) = 34799 len(X_valid) = 4410 len(y_valid) = 4410 len(X_test) = 12630 len(y_test) = 12630\n",
      "\n",
      "Few statistics about dataset X_train after pre-processing :\n",
      "###############################\n",
      "- Values average/mean : -0.35\n",
      "- Values average standard deviation : 0.52\n",
      "- Mininum value : -1.00\n",
      "- Maximum value : 0.99\n"
     ]
    }
   ],
   "source": [
    "### Preprocess the data here. It is required to normalize the data. Other preprocessing steps could include \n",
    "### converting to grayscale, etc.\n",
    "### Feel free to use as many code cells as needed.\n",
    "\n",
    "\n",
    "def normalize(image_data): \n",
    "    # Shape (32, 32, 3) or (32,32) if converted to gray scale.\n",
    "    return (np.divide(np.subtract(np.float32(image_data),np.float32(128)),128))\n",
    "\n",
    "print(f'len(X_train) = {len(X_train)} len(y_train) = {len(y_train)} len(X_valid) = {len(X_valid)} len(y_valid) = {len(y_valid)} len(X_test) = {len(X_test)} len(y_test) = {len(y_test)}')\n",
    "X_train = normalize(X_train)\n",
    "X_valid = normalize(X_valid)\n",
    "X_test = normalize(X_test)\n",
    "print('info debug : ')\n",
    "print(f'np.amax(X_train) = {np.amax(X_train)}') #[0][0])\n",
    "print(f'np.amin(X_train) = {np.amin(X_train)}') #[0][0])\n",
    "print(f'len(X_train) = {len(X_train)} len(y_train) = {len(y_train)} len(X_valid) = {len(X_valid)} len(y_valid) = {len(y_valid)} len(X_test) = {len(X_test)} len(y_test) = {len(y_test)}')\n",
    "\n",
    "printMeanAndVarianceDataSet(X_train,'X_train after pre-processing')"
   ]
  },
  {
   "cell_type": "markdown",
   "metadata": {},
   "source": [
    "#### Plotting X_train pixel values after normalization"
   ]
  },
  {
   "cell_type": "code",
   "execution_count": 53,
   "metadata": {},
   "outputs": [
    {
     "data": {
      "image/png": "[encoded data removed]",
      "text/plain": [
       "<matplotlib.figure.Figure at 0x7fa3da7a7710>"
      ]
     },
     "metadata": {
      "needs_background": "light"
     },
     "output_type": "display_data"
    }
   ],
   "source": [
    "# plot_values(X_train,400000)\n",
    "# Try to plot side by side X_train before and after normalization\n",
    "\n",
    "def plot_values(dataset,nb=1):\n",
    "    # N = 10000\n",
    "    # dataset = X_train.flatten()\n",
    "    dataset = dataset.flatten()\n",
    "    N = min(nb,len(dataset))\n",
    "    dataset = dataset[:N]\n",
    "    x = list(range(0,N))\n",
    "    plt.scatter(x, dataset, s=1)\n",
    "    plt.show()\n",
    "    \n",
    "def plotDataSetBeforeAfter(data1,data2,nb=1) :\n",
    "    data1 = data1.flatten()\n",
    "    data2 = data2.flatten()\n",
    "    N = min(nb,len(data1),len(data2))\n",
    "    data1 = data1[:N]\n",
    "    data2 = data2[:N]\n",
    "    x = list(range(0,N))\n",
    "    \n",
    "    f, ax = plt.subplots(nrows=1, ncols=2,figsize=(10, 3))  # figsize=(9, 9)\n",
    "    #f.tight_layout()\n",
    "    ax[0].scatter(x, data1, s=1)\n",
    "    ax[1].scatter(x, data2, s=1)\n",
    "    ax[0].set_title('X_train pix values before normalization')\n",
    "    ax[1].set_title('X_train pix values after normalization')\n",
    "    #ax[0].show()\n",
    "    #ax[1].show()\n",
    "    plt.subplots_adjust(left=0., right=1, top=0.9, bottom=0.)\n",
    "\n",
    "plotDataSetBeforeAfter(X_train_original,X_train,nb=200000)\n",
    "    "
   ]
  },
  {
   "cell_type": "markdown",
   "metadata": {},
   "source": [
    "### Model Architecture"
   ]
  },
  {
   "cell_type": "code",
   "execution_count": null,
   "metadata": {},
   "outputs": [],
   "source": [
    "### Define your architecture here.\n",
    "### Feel free to use as many code cells as needed."
   ]
  },
  {
   "cell_type": "markdown",
   "metadata": {},
   "source": [
    "#### Setup TensorFlow"
   ]
  },
  {
   "cell_type": "code",
   "execution_count": null,
   "metadata": {},
   "outputs": [],
   "source": [
    "import tensorflow as tf\n",
    "\n",
    "EPOCHS = 20 #10\n",
    "BATCH_SIZE = 128"
   ]
  },
  {
   "cell_type": "markdown",
   "metadata": {},
   "source": [
    "The LeNet architecture accepts a 32x32xC image as input, where C is the number of color channels. If not converted to gray scale, Traffic Signs images are color BGR, C is **3** in this case. If converted to Gray Scale, C is **1**\n",
    "\n",
    "#### Architecture\n",
    "- **Layer 1: Convolutional.** The output shape should be 28x28x6.\n",
    "\n",
    "- **Activation.** RELU.\n",
    "\n",
    "- **Pooling.** The output shape should be 14x14x6.\n",
    "\n",
    "- **Layer 2: Convolutional.** The output shape should be 10x10x16.\n",
    "\n",
    "- **Activation.** RELU.\n",
    "\n",
    "- **Pooling.** The output shape should be 5x5x16.\n",
    "\n",
    "- **Flatten.** Flatten the output shape of the final pooling layer such that it's 1D instead of 3D.\n",
    "\n",
    "- **Layer 3: Fully Connected.** This should have 120 outputs.\n",
    "\n",
    "- **Activation.** RELU.\n",
    "\n",
    "- **Dropout** for regularization\n",
    "\n",
    "- **Layer 4: Fully Connected.** This should have 84 outputs.\n",
    "\n",
    "- **Activation.** RELU.\n",
    "\n",
    "- **Dropout** for regularization\n",
    "\n",
    "- **Layer 5: Fully Connected (Logits).** This should have **43** outputs. **43 different German Traffic Signs)**\n",
    "\n",
    "- **Dropout** for regularization\n",
    "\n",
    "#### Output\n",
    "- Return the result of the 2nd fully connected layer."
   ]
  },
  {
   "cell_type": "code",
   "execution_count": null,
   "metadata": {},
   "outputs": [],
   "source": [
    "from tensorflow.contrib.layers import flatten\n",
    "\n",
    "def LeNet(x, in_channels):    \n",
    "    # Arguments used for tf.truncated_normal, randomly defines variables for the weights and biases for each layer\n",
    "    mu = 0\n",
    "    sigma = 0.1\n",
    "        \n",
    "    # SOLUTION: Layer 1: Convolutional. Input = 32x32x3. Output = 28x28x6.\n",
    "    conv1_W = tf.Variable(tf.truncated_normal(shape=(5, 5, in_channels, 6), mean = mu, stddev = sigma))\n",
    "    conv1_b = tf.Variable(tf.zeros(6))\n",
    "    conv1   = tf.nn.conv2d(x, conv1_W, strides=[1, 1, 1, 1], padding='VALID') + conv1_b\n",
    "\n",
    "    # SOLUTION: Activation.\n",
    "    conv1 = tf.nn.relu(conv1)\n",
    "\n",
    "    # SOLUTION: Pooling. Input = 28x28x6. Output = 14x14x6.\n",
    "    conv1 = tf.nn.max_pool(conv1, ksize=[1, 2, 2, 1], strides=[1, 2, 2, 1], padding='VALID')\n",
    "\n",
    "    # SOLUTION: Layer 2: Convolutional. Output = 10x10x16.\n",
    "    conv2_W = tf.Variable(tf.truncated_normal(shape=(5, 5, 6, 16), mean = mu, stddev = sigma))\n",
    "    conv2_b = tf.Variable(tf.zeros(16))\n",
    "    conv2   = tf.nn.conv2d(conv1, conv2_W, strides=[1, 1, 1, 1], padding='VALID') + conv2_b\n",
    "    \n",
    "    # SOLUTION: Activation.\n",
    "    conv2 = tf.nn.relu(conv2)\n",
    "\n",
    "    # SOLUTION: Pooling. Input = 10x10x16. Output = 5x5x16.\n",
    "    conv2 = tf.nn.max_pool(conv2, ksize=[1, 2, 2, 1], strides=[1, 2, 2, 1], padding='VALID')\n",
    "\n",
    "    # SOLUTION: Flatten. Input = 5x5x16. Output = 400.\n",
    "    fc0   = flatten(conv2)\n",
    "    \n",
    "    # SOLUTION: Layer 3: Fully Connected. Input = 400. Output = 120.\n",
    "    fc1_W = tf.Variable(tf.truncated_normal(shape=(400, 120), mean = mu, stddev = sigma))\n",
    "    fc1_b = tf.Variable(tf.zeros(120))\n",
    "    fc1   = tf.matmul(fc0, fc1_W) + fc1_b\n",
    "    \n",
    "    # SOLUTION: Activation.\n",
    "    fc1    = tf.nn.relu(fc1)\n",
    "\n",
    "    # Test DROPOUT to prevent overfitting.\n",
    "    fc1 = tf.nn.dropout(fc1, keep_prob)\n",
    "    \n",
    "    # SOLUTION: Layer 4: Fully Connected. Input = 120. Output = 84.\n",
    "    fc2_W  = tf.Variable(tf.truncated_normal(shape=(120, 84), mean = mu, stddev = sigma))\n",
    "    fc2_b  = tf.Variable(tf.zeros(84))\n",
    "    fc2    = tf.matmul(fc1, fc2_W) + fc2_b\n",
    "    \n",
    "    # SOLUTION: Activation.\n",
    "    fc2    = tf.nn.relu(fc2)\n",
    "    \n",
    "    # Test DROPOUT to prevent overfitting.\n",
    "    fc2 = tf.nn.dropout(fc2, keep_prob)\n",
    "\n",
    "    # SOLUTION: Layer 5: Fully Connected. Input = 84. Output = 43.\n",
    "    fc3_W  = tf.Variable(tf.truncated_normal(shape=(84, 43), mean = mu, stddev = sigma))\n",
    "    fc3_b  = tf.Variable(tf.zeros(43))\n",
    "    logits = tf.matmul(fc2, fc3_W) + fc3_b\n",
    "    \n",
    "    # Test DROPOUT to prevent overfitting.\n",
    "    logits = tf.nn.dropout(logits, keep_prob)\n",
    "    \n",
    "    return logits"
   ]
  },
  {
   "cell_type": "markdown",
   "metadata": {},
   "source": [
    "### Features and Labels"
   ]
  },
  {
   "cell_type": "code",
   "execution_count": null,
   "metadata": {},
   "outputs": [],
   "source": [
    "x = tf.placeholder(tf.float32, (None, 32, 32, 1)) if is_converted_gray else tf.placeholder(tf.float32, (None, 32, 32, 3))\n",
    "y = tf.placeholder(tf.int32, (None))\n",
    "one_hot_y = tf.one_hot(y, 43)\n",
    "\n",
    "# for test regularization / dropout\n",
    "keep_prob = tf.placeholder(tf.float32) # probability to keep units\n"
   ]
  },
  {
   "cell_type": "markdown",
   "metadata": {},
   "source": [
    "### Training Pipeline\n",
    "Create a training pipeline that uses the model to classify "
   ]
  },
  {
   "cell_type": "code",
   "execution_count": null,
   "metadata": {},
   "outputs": [],
   "source": [
    "rate = 0.001\n",
    "\n",
    "logits = LeNet(x,input_channels)\n",
    "cross_entropy = tf.nn.softmax_cross_entropy_with_logits(labels=one_hot_y, logits=logits)\n",
    "loss_operation = tf.reduce_mean(cross_entropy)\n",
    "optimizer = tf.train.AdamOptimizer(learning_rate = rate)\n",
    "training_operation = optimizer.minimize(loss_operation)"
   ]
  },
  {
   "cell_type": "markdown",
   "metadata": {},
   "source": [
    "### Model Evaluation\n",
    "Evaluate how well the loss and accuracy of the model for a given dataset.\n",
    "\n",
    "- Modifed to report `softmax` results and `tf.nn.top_k()` results\n",
    "- Added optional input parameters `print_softmax` to `evaluate()` function"
   ]
  },
  {
   "cell_type": "code",
   "execution_count": null,
   "metadata": {},
   "outputs": [],
   "source": [
    "correct_prediction = tf.equal(tf.argmax(logits, 1), tf.argmax(one_hot_y, 1))\n",
    "accuracy_operation = tf.reduce_mean(tf.cast(correct_prediction, tf.float32))\n",
    "saver = tf.train.Saver()\n",
    "\n",
    "softmax_operation = tf.nn.softmax(logits)\n",
    "top_softmax_operation = tf.nn.top_k(softmax_operation, k=5)\n",
    "\n",
    "def displaySoftmaxResults(tensor,y):\n",
    "    print(tensor)\n",
    "    print()\n",
    "    print(f'Image prediction results :')\n",
    "    for i in range(len(tensor[1])) :\n",
    "        print()\n",
    "        print(f'- image {i}, labelized : \\\"{sign_table[y[i]]}\\\", got top 5 traffic sign predictions :')\n",
    "        print(f'\\\"{sign_table[tensor[1][i][0]]}\\\" > \\\"{sign_table[tensor[1][i][1]]}\\\" > \\\"{sign_table[tensor[1][i][2]]}\\\" > \\\"{sign_table[tensor[1][i][3]]}\\\" > \\\"{sign_table[tensor[1][i][4]]}\\\"')\n",
    "\n",
    "\n",
    "#def evaluate(X_data, y_data):\n",
    "def evaluate(X_data, y_data, print_softmax=False):\n",
    "    # num_examples = len(X_data)\n",
    "    num_examples = min(len(X_data),len(y_data))\n",
    "    total_accuracy = 0\n",
    "    sess = tf.get_default_session()\n",
    "    for offset in range(0, num_examples, BATCH_SIZE):\n",
    "        # #### CORRECTION\n",
    "        # batch_x, batch_y = X_data[offset:offset+BATCH_SIZE], y_data[offset:offset+BATCH_SIZE]\n",
    "        # InvalidArgumentError: Incompatible shapes: [128] vs. [58]\n",
    "        # final batch may be less than BATCH_SIZE !!!!\n",
    "        end = min(offset + BATCH_SIZE,num_examples)\n",
    "        # end = offset + BATCH_SIZE\n",
    "        batch_x, batch_y = X_data[offset:end], y_data[offset:end]\n",
    "        # ####END OF CORRECTION\n",
    "        accuracy = sess.run(accuracy_operation, feed_dict={x: batch_x, y: batch_y, keep_prob: 1})\n",
    "        total_accuracy += (accuracy * len(batch_x))\n",
    "        \n",
    "        # prediction_softmax\n",
    "        if print_softmax :\n",
    "            top_softmax = sess.run(top_softmax_operation, feed_dict={x: batch_x, y: batch_y, keep_prob: 1})\n",
    "            displaySoftmaxResults(top_softmax,batch_y)\n",
    "            \n",
    "    return total_accuracy / num_examples\n",
    "    "
   ]
  },
  {
   "cell_type": "markdown",
   "metadata": {},
   "source": [
    "### Train, Validate and Test the Model"
   ]
  },
  {
   "cell_type": "markdown",
   "metadata": {},
   "source": [
    "A validation set can be used to assess how well the model is performing. A low accuracy on the training and validation\n",
    "sets imply underfitting. A high accuracy on the training set but low accuracy on the validation set implies overfitting."
   ]
  },
  {
   "cell_type": "code",
   "execution_count": null,
   "metadata": {},
   "outputs": [],
   "source": [
    "### Train your model here.\n",
    "### Calculate and report the accuracy on the training and validation set.\n",
    "### Once a final model architecture is selected, \n",
    "### the accuracy on the test set should be calculated and reported as well.\n",
    "### Feel free to use as many code cells as needed."
   ]
  },
  {
   "cell_type": "markdown",
   "metadata": {},
   "source": [
    "#### Train the Model\n",
    "- Run the training data through the training pipeline to train the model.\n",
    "- Before each epoch, shuffle the training set.\n",
    "- After each epoch, measure the loss and accuracy of the validation set.\n",
    "- Save the model after training."
   ]
  },
  {
   "cell_type": "code",
   "execution_count": null,
   "metadata": {},
   "outputs": [],
   "source": [
    "from sklearn.utils import shuffle\n",
    "\n",
    "with tf.Session() as sess:\n",
    "    sess.run(tf.global_variables_initializer())\n",
    "    # num_examples = len(X_train)\n",
    "    num_examples = min(len(X_train),len(y_train))\n",
    "    \n",
    "    print(\"Training...\")\n",
    "    print()\n",
    "    for i in range(EPOCHS):\n",
    "        X_train, y_train = shuffle(X_train, y_train)\n",
    "        for offset in range(0, num_examples, BATCH_SIZE):\n",
    "            #end = offset + BATCH_SIZE # InvalidArgumentError: Incompatible shapes: [128] vs. [58]\n",
    "            # final batch may be less than BATCH_SIZE !!!!\n",
    "            end = min(offset + BATCH_SIZE,num_examples)\n",
    "            batch_x, batch_y = X_train[offset:end], y_train[offset:end]\n",
    "            sess.run(training_operation, feed_dict={x: batch_x, y: batch_y, keep_prob: 0.75})\n",
    "            \n",
    "        validation_accuracy = evaluate(X_valid, y_valid)\n",
    "        print(f'EPOCH {i+1} ...Validation Accuracy = {validation_accuracy:.3f}')\n",
    "        \n",
    "    saver.save(sess, './lenet')\n",
    "    print(\"Model saved\")"
   ]
  },
  {
   "cell_type": "markdown",
   "metadata": {},
   "source": [
    "#### Evaluate the Model\n",
    "Once completely satisfied with your model, evaluate the performance of the model on the test set.\n",
    "Only do this once!"
   ]
  },
  {
   "cell_type": "code",
   "execution_count": null,
   "metadata": {},
   "outputs": [],
   "source": [
    "with tf.Session() as sess:\n",
    "    saver.restore(sess, tf.train.latest_checkpoint('.'))\n",
    "\n",
    "    test_accuracy = evaluate(X_test, y_test)\n",
    "    print(\"Test Accuracy = {:.3f}\".format(test_accuracy))"
   ]
  },
  {
   "cell_type": "markdown",
   "metadata": {},
   "source": [
    "---\n",
    "\n",
    "## Step 3: Test a Model on New Images\n",
    "\n",
    "To give yourself more insight into how your model is working, download at least five pictures of German traffic signs from the web and use your model to predict the traffic sign type.\n",
    "\n",
    "You may find `signnames.csv` useful as it contains mappings from the class id (integer) to the actual sign name."
   ]
  },
  {
   "cell_type": "markdown",
   "metadata": {},
   "source": [
    "### Load and Output the Images\n",
    "\n",
    "- Problem : images (.png) were RGBA (32x32x4) instead of RGB (32x32x3).\n",
    "- So I had to use PIL.image to read .png in RGBA and convert to RGB(32x32x3), using `convert('RGB')`, to make sure that images are in the format accepted by the LeNet pipeline above (32x32x3).\n"
   ]
  },
  {
   "cell_type": "code",
   "execution_count": null,
   "metadata": {},
   "outputs": [],
   "source": [
    "### Load the images and plot them here.\n",
    "### Feel free to use as many code cells as needed.\n",
    "import os\n",
    "import matplotlib.image as mpimg\n",
    "from os.path import isfile\n",
    "\n",
    "import PIL.Image\n",
    "    \n",
    "web_image_folder = './webImages'\n",
    "\n",
    "filenames = os.listdir(web_image_folder)\n",
    "image_list = []\n",
    "for fname in filenames : \n",
    "    if isfile(web_image_folder + '/' + fname) :\n",
    "        image_list.append(np.array(\n",
    "            PIL.Image.open(web_image_folder + '/' + fname).convert('RGB')))\n",
    "displayImagesSideBySide(image_list)        \n"
   ]
  },
  {
   "cell_type": "markdown",
   "metadata": {},
   "source": [
    "### Predict the Sign Type for Each Image\n",
    "- Labelizing images :  according to 'signnames.csv' :\n",
    "  - (stop,priorityRoad,yield,pedestrians,speedLimit70) = (14,12,13,27,4)\n",
    "- Also had to convert python list `image_list` into numpy array to be handle to be processed by `normalize()` function and classifier pipeline."
   ]
  },
  {
   "cell_type": "code",
   "execution_count": null,
   "metadata": {},
   "outputs": [],
   "source": [
    "### Run the predictions here and use the model to output the prediction for each image.\n",
    "### Make sure to pre-process the images with the same pre-processing pipeline used earlier.\n",
    "### Feel free to use as many code cells as needed.\n",
    "\n",
    "# --> Labelize data\n",
    "y_web = np.array([14,12,13,27,4])\n",
    "X_web = np.array(image_list)\n",
    "# x_web.shape --> shape (5, 32, 32, 3) \n",
    "# --> now can process through pre-processing + pipeline.\n",
    "\n",
    "# normalization : \n",
    "X_web = normalize(X_web)\n",
    "# print('info debug : ')\n",
    "# print(f'np.amax(X_web) = {np.amax(X_web)}') #[0][0])\n",
    "# print(f'np.amin(X_web) = {np.amin(X_web)}') #[0][0])\n",
    "# print(f'len(X_web) = {len(X_web)} len(y_web) = {len(y_web)}')"
   ]
  },
  {
   "cell_type": "markdown",
   "metadata": {},
   "source": [
    "### Analyze Performance"
   ]
  },
  {
   "cell_type": "code",
   "execution_count": null,
   "metadata": {},
   "outputs": [],
   "source": [
    "### Calculate the accuracy for these 5 new images. \n",
    "### For example, if the model predicted 1 out of 5 signs correctly, it's 20% accurate on these new images.\n",
    "\n",
    "with tf.Session() as sess:\n",
    "    saver.restore(sess, tf.train.latest_checkpoint('.'))\n",
    "\n",
    "    test_accuracy = evaluate(X_web, y_web)\n",
    "    print(\"Test Accuracy = {:.3f}\".format(test_accuracy))"
   ]
  },
  {
   "cell_type": "markdown",
   "metadata": {},
   "source": [
    "### Output Top 5 Softmax Probabilities For Each Image Found on the Web"
   ]
  },
  {
   "cell_type": "markdown",
   "metadata": {},
   "source": [
    "For each of the new images, print out the model's softmax probabilities to show the **certainty** of the model's predictions (limit the output to the top 5 probabilities for each image). [`tf.nn.top_k`](https://www.tensorflow.org/versions/r0.12/api_docs/python/nn.html#top_k) could prove helpful here. \n",
    "\n",
    "The example below demonstrates how tf.nn.top_k can be used to find the top k predictions for each image.\n",
    "\n",
    "`tf.nn.top_k` will return the values and indices (class ids) of the top k predictions. So if k=3, for each sign, it'll return the 3 largest probabilities (out of a possible 43) and the correspoding class ids.\n",
    "\n",
    "Take this numpy array as an example. The values in the array represent predictions. The array contains softmax probabilities for five candidate images with six possible classes. `tf.nn.top_k` is used to choose the three classes with the highest probability:\n",
    "\n",
    "```\n",
    "# (5, 6) array\n",
    "a = np.array([[ 0.24879643,  0.07032244,  0.12641572,  0.34763842,  0.07893497,\n",
    "         0.12789202],\n",
    "       [ 0.28086119,  0.27569815,  0.08594638,  0.0178669 ,  0.18063401,\n",
    "         0.15899337],\n",
    "       [ 0.26076848,  0.23664738,  0.08020603,  0.07001922,  0.1134371 ,\n",
    "         0.23892179],\n",
    "       [ 0.11943333,  0.29198961,  0.02605103,  0.26234032,  0.1351348 ,\n",
    "         0.16505091],\n",
    "       [ 0.09561176,  0.34396535,  0.0643941 ,  0.16240774,  0.24206137,\n",
    "         0.09155967]])\n",
    "```\n",
    "\n",
    "Running it through `sess.run(tf.nn.top_k(tf.constant(a), k=3))` produces:\n",
    "\n",
    "```\n",
    "TopKV2(values=array([[ 0.34763842,  0.24879643,  0.12789202],\n",
    "       [ 0.28086119,  0.27569815,  0.18063401],\n",
    "       [ 0.26076848,  0.23892179,  0.23664738],\n",
    "       [ 0.29198961,  0.26234032,  0.16505091],\n",
    "       [ 0.34396535,  0.24206137,  0.16240774]]), indices=array([[3, 0, 5],\n",
    "       [0, 1, 4],\n",
    "       [0, 5, 1],\n",
    "       [1, 3, 5],\n",
    "       [1, 4, 3]], dtype=int32))\n",
    "```\n",
    "\n",
    "Looking just at the first row we get `[ 0.34763842,  0.24879643,  0.12789202]`, you can confirm these are the 3 largest probabilities in `a`. You'll also notice `[3, 0, 5]` are the corresponding indices."
   ]
  },
  {
   "cell_type": "code",
   "execution_count": null,
   "metadata": {},
   "outputs": [],
   "source": [
    "### Print out the top five softmax probabilities for the predictions on the \n",
    "### German traffic sign images found on the web. \n",
    "### Feel free to use as many code cells as needed.\n",
    "\n",
    "\n",
    "# Run `evaluate()` function with `print_softmax = True` parameter set to print softmax results\n",
    "with tf.Session() as sess:\n",
    "    saver.restore(sess, tf.train.latest_checkpoint('.'))\n",
    "\n",
    "    #test_accuracy, top5 = evaluate(X_web, y_web)\n",
    "    test_accuracy = evaluate(X_web, y_web, print_softmax = True)\n",
    "    #print(\"Test Accuracy = {:.3f}\".format(test_accuracy))\n"
   ]
  },
  {
   "cell_type": "markdown",
   "metadata": {},
   "source": [
    "### Project Writeup\n",
    "\n",
    "Once you have completed the code implementation, document your results in a project writeup using this [template](https://github.com/udacity/CarND-Traffic-Sign-Classifier-Project/blob/master/writeup_template.md) as a guide. The writeup can be in a markdown or pdf file. "
   ]
  },
  {
   "cell_type": "markdown",
   "metadata": {},
   "source": [
    "> **Note**: Once you have completed all of the code implementations and successfully answered each question above, you may finalize your work by exporting the iPython Notebook as an HTML document. You can do this by using the menu above and navigating to  \\n\",\n",
    "    \"**File -> Download as -> HTML (.html)**. Include the finished document along with this notebook as your submission."
   ]
  },
  {
   "cell_type": "markdown",
   "metadata": {},
   "source": [
    "---\n",
    "\n",
    "## Step 4 (Optional): Visualize the Neural Network's State with Test Images\n",
    "\n",
    " This Section is not required to complete but acts as an additional excersise for understaning the output of a neural network's weights. While neural networks can be a great learning device they are often referred to as a black box. We can understand what the weights of a neural network look like better by plotting their feature maps. After successfully training your neural network you can see what it's feature maps look like by plotting the output of the network's weight layers in response to a test stimuli image. From these plotted feature maps, it's possible to see what characteristics of an image the network finds interesting. For a sign, maybe the inner network feature maps react with high activation to the sign's boundary outline or to the contrast in the sign's painted symbol.\n",
    "\n",
    " Provided for you below is the function code that allows you to get the visualization output of any tensorflow weight layer you want. The inputs to the function should be a stimuli image, one used during training or a new one you provided, and then the tensorflow variable name that represents the layer's state during the training process, for instance if you wanted to see what the [LeNet lab's](https://classroom.udacity.com/nanodegrees/nd013/parts/fbf77062-5703-404e-b60c-95b78b2f3f9e/modules/6df7ae49-c61c-4bb2-a23e-6527e69209ec/lessons/601ae704-1035-4287-8b11-e2c2716217ad/concepts/d4aca031-508f-4e0b-b493-e7b706120f81) feature maps looked like for it's second convolutional layer you could enter conv2 as the tf_activation variable.\n",
    "\n",
    "For an example of what feature map outputs look like, check out NVIDIA's results in their paper [End-to-End Deep Learning for Self-Driving Cars](https://devblogs.nvidia.com/parallelforall/deep-learning-self-driving-cars/) in the section Visualization of internal CNN State. NVIDIA was able to show that their network's inner weights had high activations to road boundary lines by comparing feature maps from an image with a clear path to one without. Try experimenting with a similar test to show that your trained network's weights are looking for interesting features, whether it's looking at differences in feature maps from images with or without a sign, or even what feature maps look like in a trained network vs a completely untrained one on the same sign image.\n",
    "\n",
    "<figure>\n",
    " <img src=\"visualize_cnn.png\" width=\"380\" alt=\"Combined Image\" />\n",
    " <figcaption>\n",
    " <p></p> \n",
    " <p style=\"text-align: center;\"> Your output should look something like this (above)</p> \n",
    " </figcaption>\n",
    "</figure>\n",
    " <p></p> \n"
   ]
  },
  {
   "cell_type": "code",
   "execution_count": null,
   "metadata": {},
   "outputs": [],
   "source": [
    "### Visualize your network's feature maps here.\n",
    "### Feel free to use as many code cells as needed.\n",
    "\n",
    "# image_input: the test image being fed into the network to produce the feature maps\n",
    "# tf_activation: should be a tf variable name used during your training procedure that represents the calculated state of a specific weight layer\n",
    "# activation_min/max: can be used to view the activation contrast in more detail, by default matplot sets min and max to the actual min and max values of the output\n",
    "# plt_num: used to plot out multiple different weight feature map sets on the same block, just extend the plt number for each new feature map entry\n",
    "\n",
    "def outputFeatureMap(image_input, tf_activation, activation_min=-1, activation_max=-1 ,plt_num=1):\n",
    "    # Here make sure to preprocess your image_input in a way your network expects\n",
    "    # with size, normalization, ect if needed\n",
    "    # image_input =\n",
    "    # Note: x should be the same name as your network's tensorflow data placeholder variable\n",
    "    # If you get an error tf_activation is not defined it may be having trouble accessing the variable from inside a function\n",
    "    activation = tf_activation.eval(session=sess,feed_dict={x : image_input})\n",
    "    featuremaps = activation.shape[3]\n",
    "    plt.figure(plt_num, figsize=(15,15))\n",
    "    for featuremap in range(featuremaps):\n",
    "        plt.subplot(6,8, featuremap+1) # sets the number of feature maps to show on each row and column\n",
    "        plt.title('FeatureMap ' + str(featuremap)) # displays the feature map number\n",
    "        if activation_min != -1 & activation_max != -1:\n",
    "            plt.imshow(activation[0,:,:, featuremap], interpolation=\"nearest\", vmin =activation_min, vmax=activation_max, cmap=\"gray\")\n",
    "        elif activation_max != -1:\n",
    "            plt.imshow(activation[0,:,:, featuremap], interpolation=\"nearest\", vmax=activation_max, cmap=\"gray\")\n",
    "        elif activation_min !=-1:\n",
    "            plt.imshow(activation[0,:,:, featuremap], interpolation=\"nearest\", vmin=activation_min, cmap=\"gray\")\n",
    "        else:\n",
    "            plt.imshow(activation[0,:,:, featuremap], interpolation=\"nearest\", cmap=\"gray\")"
   ]
  }
 ],
 "metadata": {
  "anaconda-cloud": {},
  "kernelspec": {
   "display_name": "Python 3",
   "language": "python",
   "name": "python3"
  },
  "language_info": {
   "codemirror_mode": {
    "name": "ipython",
    "version": 3
   },
   "file_extension": ".py",
   "mimetype": "text/x-python",
   "name": "python",
   "nbconvert_exporter": "python",
   "pygments_lexer": "ipython3",
   "version": "3.6.3"
  }
 },
 "nbformat": 4,
 "nbformat_minor": 1
}
